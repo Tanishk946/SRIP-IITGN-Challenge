{
  "cells": [
    {
      "cell_type": "markdown",
      "metadata": {
        "id": "C4aBgVQp1ZYs"
      },
      "source": [
        "**Importing Required Libraries**"
      ]
    },
    {
      "cell_type": "code",
      "execution_count": 61,
      "metadata": {
        "id": "n0T6nX1n0bYs"
      },
      "outputs": [],
      "source": [
        "#visualization libraries\n",
        "import seaborn as sns\n",
        "import matplotlib.pyplot as plt\n",
        "\n",
        "#libraries for importing mnist dataset\n",
        "from torchvision import datasets, transforms\n",
        "import torch.utils.data\n",
        "\n",
        "#libraries for loading dataset and 80:20 split is mentioned in the problem, so concatinating the dataset and splitting it.\n",
        "from torch.utils.data import DataLoader,ConcatDataset\n",
        "from torch.utils.data.sampler import SubsetRandomSampler\n",
        "\n",
        "#JAX libraries\n",
        "import jax\n",
        "from jax import random\n",
        "import jax.numpy as jnp\n",
        "from jax import jit, value_and_grad\n",
        "from jax.experimental import optimizers"
      ]
    },
    {
      "cell_type": "markdown",
      "metadata": {
        "id": "55S5-Ymp2Xsh"
      },
      "source": [
        "**Helper Functions**"
      ]
    },
    {
      "cell_type": "code",
      "execution_count": 62,
      "metadata": {
        "id": "i5dWZfglUdWq"
      },
      "outputs": [],
      "source": [
        "sns.set(context='poster', style='white',\n",
        "        font='sans-serif', font_scale=1, color_codes=True, rc=None)\n",
        "\n",
        "def plot_mnist_examples(train_loader):\n",
        "    # Plot some MNIST example samples\n",
        "    for batch_idx, (data, target) in enumerate(train_loader):\n",
        "        images = jnp.asarray(data[:5, ...]).reshape(5, 28, 28)\n",
        "        target = jnp.asarray(target[:5, ...])\n",
        "        break\n",
        "    fig, axs = plt.subplots(1, 5, figsize=(10, 5))\n",
        "    for i, ax in enumerate(axs.flatten()):\n",
        "        ax.imshow(images[i,...], cmap=\"Greys\")\n",
        "        ax.set_title(\"Label: {}\".format(target[i]), fontsize=30)\n",
        "        ax.set_axis_off()\n",
        "    fig.tight_layout()\n",
        "\n",
        "\n",
        "def plot_mnist_performance(train_loss, sup_title=\"Loss Curve\"):\n",
        "    \"\"\" Visualize the learning performance of a classifier on MNIST \"\"\"\n",
        "    fig, axs = plt.subplots()\n",
        "    axs.plot(train_loss)\n",
        "    axs.set_xlabel(\"Iterations\")\n",
        "    axs.set_ylabel(\"Batch Loss\")\n",
        "    axs.set_title(\"Training Loss\")"
      ]
    },
    {
      "cell_type": "markdown",
      "metadata": {
        "id": "W6xHPJzl3BGE"
      },
      "source": [
        "**Downloading and Loading the dataset**"
      ]
    },
    {
      "cell_type": "code",
      "execution_count": 63,
      "metadata": {
        "colab": {
          "base_uri": "https://localhost:8080/"
        },
        "id": "6CtUTPKRpkHS",
        "outputId": "c532c271-03a2-4f0c-f613-c9321338fdcd"
      },
      "outputs": [
        {
          "output_type": "stream",
          "name": "stdout",
          "text": [
            "<class 'torchvision.datasets.mnist.MNIST'>\n",
            "<class 'torch.utils.data.dataset.ConcatDataset'>\n",
            "<class 'list'>\n",
            "56000\n",
            "<class 'torch.utils.data.dataloader.DataLoader'>\n"
          ]
        }
      ],
      "source": [
        "#Initializing the parameters\n",
        "test_split=0.2\n",
        "shuffle_dataset = True\n",
        "temp_seed= 18\n",
        "batch_size=100\n",
        "\n",
        "#downloading the mnist training data (consists of 60000 examples)\n",
        "train_dataset_temp = datasets.MNIST(root='train_mnist', train=True, download=True,transform=transforms.Compose([\n",
        "                       transforms.ToTensor(),\n",
        "                       transforms.Normalize((0.1307,), (0.3081,))#normalization is used as the input is in rgb format, we need to convert it to greyscale format which is done using normalization.\n",
        "                   ]))\n",
        "\n",
        "#downloading the mnist testing data (consists of 10000 examples)\n",
        "test_dataset_temp = datasets.MNIST(root='test_mnist', train=False, download=True, transform=transforms.Compose([\n",
        "                       transforms.ToTensor(),\n",
        "                       transforms.Normalize((0.1307,), (0.3081,))\n",
        "                   ]))\n",
        "dataset = ConcatDataset([train_dataset_temp, test_dataset_temp])#concatinating both training and testing datasets\n",
        "print(type(train_dataset_temp))#used for debugging purposes\n",
        "print(type(dataset))#used for debugging purposes\n",
        "\n",
        "#splitting the data randomly in the ratio 80:20\n",
        "dataset_size = len(dataset)\n",
        "indices = jnp.asarray(range(dataset_size))\n",
        "split = int(jnp.floor(test_split * dataset_size))\n",
        "if shuffle_dataset :\n",
        "    indices=jax.random.permutation(random.PRNGKey(temp_seed),indices,independent=True)\n",
        "indices=indices.tolist()\n",
        "train_indices, test_indices = indices[split:], indices[:split]\n",
        "\n",
        "# Creating PT data samplers and loaders:\n",
        "train_sampler = list(SubsetRandomSampler(train_indices))\n",
        "test_sampler = list(SubsetRandomSampler(test_indices))\n",
        "print(type(train_sampler))#used for debugging purposes\n",
        "print(len(train_sampler))\n",
        "train_loader = DataLoader(dataset,batch_size=batch_size, sampler=train_sampler)\n",
        "test_loader = DataLoader(dataset, batch_size=batch_size, sampler=test_sampler)\n",
        "print(type(train_loader))#used for debugging purposes"
      ]
    },
    {
      "cell_type": "markdown",
      "metadata": {
        "id": "A3FWdCJm5FCt"
      },
      "source": [
        "**Visualising some examples in the training data**"
      ]
    },
    {
      "cell_type": "code",
      "execution_count": 64,
      "metadata": {
        "colab": {
          "base_uri": "https://localhost:8080/",
          "height": 149
        },
        "id": "bK5S1LGq1mUW",
        "outputId": "a0236226-745c-444a-b482-fc17d8958035"
      },
      "outputs": [
        {
          "output_type": "display_data",
          "data": {
            "text/plain": [
              "<Figure size 720x360 with 5 Axes>"
            ],
            "image/png": "[encoded data removed]"
          },
          "metadata": {}
        }
      ],
      "source": [
        "#displays first 5 examples\n",
        "plot_mnist_examples(train_loader)"
      ]
    },
    {
      "cell_type": "markdown",
      "metadata": {
        "id": "6POjxdKJ5OTq"
      },
      "source": [
        "**Creating and training the neural networks**"
      ]
    },
    {
      "cell_type": "code",
      "execution_count": 65,
      "metadata": {
        "id": "SiW7D6O3JxlC"
      },
      "outputs": [],
      "source": [
        "def initialize_nn(sizes, key):\n",
        "    \"\"\" Initialize the weights of all layers of a linear layer network \"\"\"\n",
        "    keys = random.split(key, len(sizes))\n",
        "    # Initialize a single layer with Gaussian weights -  helper function\n",
        "    def initialize_layer(m, n, key, scale=0.01):\n",
        "        w_key, b_key = random.split(key)\n",
        "        return scale * random.normal(w_key, (n, m)), scale * random.normal(b_key, (n,))\n",
        "    return [initialize_layer(m, n, k) for m, n, k in zip(sizes[:-1], sizes[1:], keys)]\n",
        "\n",
        "#creating 4 layers i.e.,\n",
        "#1st layer-input layer of size 784\n",
        "#2nd layer of size 512 neurons\n",
        "#3rd layer of size 512 neurons\n",
        "#4th layer-output layer of size 10 (number of classes)\n",
        "layer_sizes = [784, 512, 512, 10] \n",
        "# Return a list of tuples of layer weights\n",
        "key = random.PRNGKey(1)#key is generated for assigning random weights before the 1st epoch, without jax np.random() is used for generating random weights.\n",
        "params = initialize_nn(layer_sizes, key)"
      ]
    },
    {
      "cell_type": "markdown",
      "metadata": {
        "id": "K4SwM8_3ndG1"
      },
      "source": [
        "**Pytree Visualisation**\n",
        "pytree visualisation is used to identify the structure of the neural network. It can be used for a cross-verification purpose i.e., whether the neural network architecture that we initiated is correct or not. tree_map function available in jax library can be used to represent pytree structure."
      ]
    },
    {
      "cell_type": "code",
      "execution_count": 66,
      "metadata": {
        "colab": {
          "base_uri": "https://localhost:8080/"
        },
        "id": "27hx63ERoFyj",
        "outputId": "b4803622-169e-4032-ee8b-7f8d43ff0d51"
      },
      "outputs": [
        {
          "output_type": "stream",
          "name": "stdout",
          "text": [
            "[((256, 784), (256,)), ((256, 256), (256,)), ((10, 256), (10,))]\n",
            "((256, 784), (256,)) level has 3 layers: [256, 784, 256]\n",
            "((256, 256), (256,)) level has 3 layers: [256, 256, 256]\n",
            "((10, 256), (10,)) level has 3 layers: [10, 256, 10]\n"
          ]
        }
      ],
      "source": [
        "tree_structure=jax.tree_map(lambda x: x.shape, params)\n",
        "print(tree_structure)\n",
        "# Let's see how many leaves they have:\n",
        "for level in tree_structure:\n",
        "  layers = jax.tree_leaves(level)\n",
        "  print(f\"{repr(level)} level has {len(layers)} layers: {layers}\")"
      ]
    },
    {
      "cell_type": "markdown",
      "metadata": {
        "id": "d0Feq35Fqatj"
      },
      "source": [
        "**Creating Sigmoid Activation function**"
      ]
    },
    {
      "cell_type": "code",
      "execution_count": 67,
      "metadata": {
        "id": "yjP81hdcs-dV"
      },
      "outputs": [],
      "source": [
        "def Sigmoid(x):\n",
        "    #sigmoid function (f(x)) = 1/(1+ e^(-x))\n",
        "    return 1/(1 + jnp.exp(-x))\n",
        "    \n",
        "def Sigmoid_layer(params, x):\n",
        "    #Simple Sigmoid layer for single sample\n",
        "    return Sigmoid(jnp.dot(params[0], x) + params[1])"
      ]
    },
    {
      "cell_type": "markdown",
      "metadata": {
        "id": "oUZTaMOXqkri"
      },
      "source": [
        "**Creating forward pass of the neural network**"
      ]
    },
    {
      "cell_type": "code",
      "execution_count": 68,
      "metadata": {
        "id": "yjT3SdPk99fN"
      },
      "outputs": [],
      "source": [
        "from jax.scipy.special import logsumexp\n",
        "from jax import vmap\n",
        "def forward_pass(params, in_array):\n",
        "    #Computing the forward pass for each example individually \n",
        "    activations = in_array\n",
        "    # Loop over the Sigmoid hidden layers\n",
        "    for w, b in params[:-1]:\n",
        "        activations = Sigmoid_layer([w, b], activations)\n",
        "    # Perform final trafo to logits\n",
        "    final_w, final_b = params[-1]\n",
        "    logits = jnp.dot(final_w, activations) + final_b\n",
        "    return logits - logsumexp(logits)\n",
        "# Make a batched version of the `predict` function\n",
        "batch_forward = vmap(forward_pass, in_axes=(None, 0), out_axes=0)"
      ]
    },
    {
      "cell_type": "markdown",
      "metadata": {
        "id": "Rb54T51OqwL_"
      },
      "source": [
        "**Creating loss and accuracy function for performance evaluation**"
      ]
    },
    {
      "cell_type": "code",
      "execution_count": 69,
      "metadata": {
        "id": "1U9Sz7f1LT80"
      },
      "outputs": [],
      "source": [
        "num_classes=10\n",
        "def one_hot(x, k, dtype=jnp.float32):\n",
        "    #Creating a one-hot encoding of x of size k\n",
        "    return jnp.array(x[:, None] == jnp.arange(k), dtype)\n",
        "\n",
        "def loss(params, in_arrays, targets):\n",
        "    #Computing the multi-class cross-entropy loss\n",
        "    preds = batch_forward(params, in_arrays)\n",
        "    return -jnp.sum(preds * targets)\n",
        "\n",
        "def accuracy(params, data_loader):\n",
        "    #Computing the accuracy for a provided dataloader\n",
        "    acc_total = 0\n",
        "    for batch_idx, (data, target) in enumerate(data_loader):\n",
        "        images = jnp.array(data).reshape(data.size(0), 28*28)\n",
        "        targets = one_hot(jnp.array(target), num_classes)\n",
        "        target_class = jnp.argmax(targets, axis=1)\n",
        "        predicted_class = jnp.argmax(batch_forward(params, images), axis=1)\n",
        "        acc_total += jnp.sum(predicted_class == target_class)\n",
        "    return acc_total/len(data_loader.dataset)"
      ]
    },
    {
      "cell_type": "markdown",
      "metadata": {
        "id": "zW3koHTTrKWo"
      },
      "source": [
        "**Creating update function for backward propagation calculation**"
      ]
    },
    {
      "cell_type": "code",
      "execution_count": 70,
      "metadata": {
        "id": "xVzm1hF4t5oQ"
      },
      "outputs": [],
      "source": [
        "@jit #jit(just in time) is a compiler used for faster execution\n",
        "def update(params, x, y, opt_state):\n",
        "    \"\"\" Compute the gradient for a batch and update the parameters \"\"\"\n",
        "    value, grads = value_and_grad(loss)(params, x, y)#value_and_grad is used for the differentiation calculation when backpropagating\n",
        "    opt_state = opt_update(0, grads, opt_state)\n",
        "    return get_params(opt_state), opt_state, value\n",
        "\n",
        "# Defining an optimizer in Jax\n",
        "step_size = 0.001\n",
        "opt_init, opt_update, get_params = optimizers.adam(step_size)\n",
        "opt_state = opt_init(params)\n",
        "num_epochs = 10"
      ]
    },
    {
      "cell_type": "markdown",
      "metadata": {
        "id": "Bo_MW2RwrN6f"
      },
      "source": [
        "**Testing the created neural network architecture on mnist dataset**"
      ]
    },
    {
      "cell_type": "code",
      "execution_count": 71,
      "metadata": {
        "colab": {
          "base_uri": "https://localhost:8080/"
        },
        "id": "QgweyJ0AuaZW",
        "outputId": "7815f7be-316c-4e57-a130-c6d70f83d052"
      },
      "outputs": [
        {
          "output_type": "stream",
          "name": "stdout",
          "text": [
            "Epoch no - Train Accuracy - Test Accuracy for batch size:1000 for architecture:[784, 256, 256, 10]\n",
            "Epoch 1 - Train A: 0.685 - Test A: 0.171\n",
            "Epoch 2 - Train A: 0.736 - Test A: 0.183\n",
            "Epoch 3 - Train A: 0.750 - Test A: 0.186\n",
            "Epoch 4 - Train A: 0.759 - Test A: 0.188\n",
            "Epoch 5 - Train A: 0.765 - Test A: 0.190\n",
            "Epoch 6 - Train A: 0.769 - Test A: 0.191\n",
            "Epoch 7 - Train A: 0.773 - Test A: 0.192\n",
            "Epoch 8 - Train A: 0.775 - Test A: 0.192\n",
            "Epoch 9 - Train A: 0.778 - Test A: 0.192\n",
            "Epoch 10 - Train A: 0.780 - Test A: 0.193\n"
          ]
        }
      ],
      "source": [
        "def run_mnist_training_loop(num_epochs, opt_state):\n",
        "    #Implements a learning loop over epochs. \n",
        "    # Initialize placeholder for loggin\n",
        "    log_acc_train, log_acc_test, train_loss = [], [], []\n",
        "\n",
        "    # Get the initial set of parameters\n",
        "    params = get_params(opt_state)\n",
        "\n",
        "    # Get initial accuracy after random initialization\n",
        "    train_acc = accuracy(params, train_loader)\n",
        "    test_acc = accuracy(params, test_loader)\n",
        "    log_acc_train.append(train_acc)\n",
        "    log_acc_test.append(test_acc)\n",
        "    print(\"Epoch no - Train Accuracy - Test Accuracy for batch size:\"+str(batch_size)+\" for architecture:\"+str(layer_sizes))\n",
        "    # Loop over the training epochs\n",
        "    for epoch in range(num_epochs):\n",
        "        for batch_idx, (data, target) in enumerate(train_loader):\n",
        "            # Flatten the image into 784 vectors for the NN\n",
        "            x = jnp.array(data).reshape(data.size(0), 28*28)\n",
        "            y = one_hot(jnp.array(target), num_classes)\n",
        "            params, opt_state, loss = update(params, x, y, opt_state)\n",
        "            train_loss.append(loss)\n",
        "        train_acc = accuracy(params, train_loader)\n",
        "        test_acc = accuracy(params, test_loader)\n",
        "        log_acc_train.append(train_acc)\n",
        "        log_acc_test.append(test_acc)\n",
        "        print(\"Epoch {} - Train A: {:0.3f} - Test A: {:0.3f}\".format(epoch+1, train_acc, test_acc))\n",
        "    return train_loss, log_acc_train, log_acc_test\n",
        "train_loss, train_log, test_log = run_mnist_training_loop(num_epochs,opt_state)"
      ]
    },
    {
      "cell_type": "markdown",
      "metadata": {
        "id": "CrmCo79ArWeX"
      },
      "source": [
        "**Plotting loss v/s iterations**"
      ]
    },
    {
      "cell_type": "code",
      "execution_count": 72,
      "metadata": {
        "colab": {
          "base_uri": "https://localhost:8080/",
          "height": 354
        },
        "id": "uXUhq2MdupyL",
        "outputId": "b0f5395f-2f1f-4243-bef5-cd0a1a8b69c8"
      },
      "outputs": [
        {
          "output_type": "stream",
          "name": "stdout",
          "text": [
            "560\n"
          ]
        },
        {
          "output_type": "display_data",
          "data": {
            "text/plain": [
              "<Figure size 432x288 with 1 Axes>"
            ],
            "image/png": "[encoded data removed]"
          },
          "metadata": {}
        }
      ],
      "source": [
        "# Plot the loss curve over iterations\n",
        "print(len(train_loss))\n",
        "plot_mnist_performance(train_loss, \"MNIST NN Performance\")"
      ]
    }
  ],
  "metadata": {
    "accelerator": "GPU",
    "colab": {
      "collapsed_sections": [],
      "name": "Untitled0.ipynb",
      "provenance": []
    },
    "kernelspec": {
      "display_name": "Python 3",
      "name": "python3"
    },
    "language_info": {
      "name": "python"
    }
  },
  "nbformat": 4,
  "nbformat_minor": 0
}